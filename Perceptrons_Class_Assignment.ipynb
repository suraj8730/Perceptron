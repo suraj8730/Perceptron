{
 "cells": [
  {
   "cell_type": "code",
   "execution_count": 234,
   "id": "cfccc772",
   "metadata": {},
   "outputs": [],
   "source": [
    "import numpy as np\n",
    "import matplotlib.pyplot as plt\n",
    "import random\n",
    "from sklearn.model_selection import train_test_split"
   ]
  },
  {
   "cell_type": "markdown",
   "id": "a08a9c21",
   "metadata": {},
   "source": [
    "### Name-Suraj Kumar Patel\n",
    "### Roll no.- 1811163"
   ]
  },
  {
   "cell_type": "markdown",
   "id": "6b6a4450",
   "metadata": {},
   "source": [
    "## Vanila Perceptron"
   ]
  },
  {
   "cell_type": "code",
   "execution_count": 245,
   "id": "04ff29c3",
   "metadata": {},
   "outputs": [],
   "source": [
    "def van_perceptron(x_cord,y_cord):\n",
    "    w = np.zeros(len(x_cord[0]) - 1)\n",
    "    b = random.random()\n",
    "    iteration = 10\n",
    "    ep=0.01\n",
    "    w_mat=[]\n",
    "    b_mat=[]\n",
    "    for p in range(iteration):\n",
    "        c = 0\n",
    "        for i in range(len(x_cord)):\n",
    "            a = 0\n",
    "            for j in range(len(x_cord[i]) - 1):\n",
    "                a += w[j] * x_cord[i][j]\n",
    "            a = a + b\n",
    "            if y_cord[i] * a <= 0:\n",
    "                for j in range(len(x_cord[i]) - 1):\n",
    "                    w[j] += ep*y_cord[i] * x_cord[i][j]\n",
    "                b += ep*y_cord[i]\n",
    "        print(w)\n",
    "        w_mat.append(w.copy())\n",
    "        b_mat.append(b)\n",
    "        #print(p,w,b)\n",
    "    print(w_mat)\n",
    "    return w, b,w_mat,b_mat"
   ]
  },
  {
   "cell_type": "code",
   "execution_count": 240,
   "id": "96136750",
   "metadata": {},
   "outputs": [],
   "source": [
    "def sign(n):\n",
    "    sgn = n / abs(n)\n",
    "    return int(sgn)\n",
    "def test_for_it(x_test,y_test, w, b):\n",
    "    count = 0\n",
    "    for j in range(len(x_test)):\n",
    "        a_test = 0\n",
    "        for i in range(len(x_test[j])-1):\n",
    "            a_test += x_test[j][i] * w[i]\n",
    "        a = a_test + b\n",
    "        y_pred = sign(a)\n",
    "        if y_pred==y_test[j]:\n",
    "            count+=1\n",
    "    accur=count/len(x_test)\n",
    "    return accur\n",
    "def test_vanila(w_mat,b_mat,x_test,y_test):\n",
    "    it=[]\n",
    "    accuracy=[]\n",
    "    for i in range(len(w_mat)):\n",
    "        it.append(i)\n",
    "        w_i=w_mat[i]\n",
    "        b_i=b_mat[i]\n",
    "        accur=test_for_it(x_test,y_test, w_i, b_i)\n",
    "        accuracy.append(accur)\n",
    "    return accuracy,it"
   ]
  },
  {
   "cell_type": "code",
   "execution_count": 241,
   "id": "f67f5c9c",
   "metadata": {},
   "outputs": [],
   "source": [
    "x_cord=np.genfromtxt('iris.csv',delimiter=',')\n",
    "X=[x for x in x_cord]\n",
    "y=[x[-1] for x in x_cord]\n",
    "x_train, x_test, y_train, y_test = train_test_split(X, y, test_size=0.2)"
   ]
  },
  {
   "cell_type": "code",
   "execution_count": 246,
   "id": "55d3c4e3",
   "metadata": {},
   "outputs": [
    {
     "name": "stdout",
     "output_type": "stream",
     "text": [
      "[-0.13   0.003 -0.195 -0.075]\n",
      "[-0.075  0.052 -0.195 -0.077]\n",
      "[-0.07   0.067 -0.211 -0.083]\n",
      "[-0.112  0.058 -0.26  -0.1  ]\n",
      "[-0.112  0.058 -0.26  -0.1  ]\n",
      "[-0.112  0.058 -0.26  -0.1  ]\n",
      "[-0.112  0.058 -0.26  -0.1  ]\n",
      "[-0.112  0.058 -0.26  -0.1  ]\n",
      "[-0.112  0.058 -0.26  -0.1  ]\n",
      "[-0.112  0.058 -0.26  -0.1  ]\n",
      "[array([-0.13 ,  0.003, -0.195, -0.075]), array([-0.075,  0.052, -0.195, -0.077]), array([-0.07 ,  0.067, -0.211, -0.083]), array([-0.112,  0.058, -0.26 , -0.1  ]), array([-0.112,  0.058, -0.26 , -0.1  ]), array([-0.112,  0.058, -0.26 , -0.1  ]), array([-0.112,  0.058, -0.26 , -0.1  ]), array([-0.112,  0.058, -0.26 , -0.1  ]), array([-0.112,  0.058, -0.26 , -0.1  ]), array([-0.112,  0.058, -0.26 , -0.1  ])]\n",
      "0.9560766350816456\n"
     ]
    },
    {
     "data": {
      "text/plain": [
       "[<matplotlib.lines.Line2D at 0x28a982b7f40>]"
      ]
     },
     "execution_count": 246,
     "metadata": {},
     "output_type": "execute_result"
    },
    {
     "data": {
      "image/png": "[encoded data removed]",
      "text/plain": [
       "<Figure size 432x288 with 1 Axes>"
      ]
     },
     "metadata": {
      "needs_background": "light"
     },
     "output_type": "display_data"
    }
   ],
   "source": [
    "w, b,w_mat,b_mat = van_perceptron(x_train, y_train)\n",
    "acc,it=test_vanila(w_mat,b_mat,x_test,y_test)\n",
    "print(b)\n",
    "plt.xlabel(\"Iteration\")\n",
    "plt.ylabel(\"Accuracy Achieved\")\n",
    "plt.plot(it,acc)"
   ]
  },
  {
   "cell_type": "markdown",
   "id": "3503a240",
   "metadata": {},
   "source": [
    "Vanila perceptron is giving perfect accuracy from start many of the times "
   ]
  },
  {
   "cell_type": "markdown",
   "id": "6de6bed2",
   "metadata": {},
   "source": [
    "### Voted perceptron"
   ]
  },
  {
   "cell_type": "code",
   "execution_count": 271,
   "id": "f31aa02c",
   "metadata": {},
   "outputs": [],
   "source": [
    "def perceptron(x_cord, y_cord):\n",
    "    w = np.random.random(len(x_cord[0]) - 1)\n",
    "    b = 0\n",
    "    iteration = 10\n",
    "    w_m = []\n",
    "    ep=0.01\n",
    "    w_mat=[]\n",
    "    b_m=[]\n",
    "    c_m=[]\n",
    "    b_mat=[]\n",
    "    c_mat=[]\n",
    "    for p in range(iteration):\n",
    "        c = 0\n",
    "        for i in range(len(x_cord)):\n",
    "            a = 0\n",
    "            for j in range(len(x_cord[i]) - 1):\n",
    "                a += w[j] * x_cord[i][j]\n",
    "            a = a + b\n",
    "            if y_cord[i] * a <= 0:\n",
    "                for j in range(len(x_cord[i]) - 1):\n",
    "                    w[j] += ep*y_cord[i] * x_cord[i][j]\n",
    "                b += ep*y_cord[i]\n",
    "                w_m.append([w.copy()])\n",
    "                b_m.append(b)\n",
    "                c_m.append(c)\n",
    "            else:\n",
    "                c += 1\n",
    "        w_mat.append(w_m.copy())\n",
    "        b_mat.append(b_m)\n",
    "        c_mat.append(c_m)\n",
    "        #print(p,w,b)\n",
    "    #print(w_m)\n",
    "    return w_m,w_mat,b_mat,c_mat"
   ]
  },
  {
   "cell_type": "code",
   "execution_count": 272,
   "id": "57317157",
   "metadata": {},
   "outputs": [],
   "source": [
    "def test_for_it_avg(x_test,y_test, w_mat,b_m,c_m):\n",
    "    count = 0\n",
    "    w_mat=np.array(w_mat)\n",
    "    #print(len(w_mat[0][0]))\n",
    "    #print(len(b_m))\n",
    "    for j in range(len(x_test)):\n",
    "        c_sm=0\n",
    "        for p in range(len(w_mat)):\n",
    "            a_test = 0\n",
    "            for i in range(len(x_test[j])-1):\n",
    "                a_test += x_test[j][i] * w_mat[p,0,i]\n",
    "            a = a_test + b_m[p]\n",
    "            c_sm += sign(a)*c_m[p]\n",
    "        y_pred=sign(c_sm)\n",
    "        if y_pred==y_test[j]:\n",
    "            count+=1\n",
    "    accur=count/len(x_test)\n",
    "    return accur"
   ]
  },
  {
   "cell_type": "code",
   "execution_count": 273,
   "id": "e1876c7b",
   "metadata": {},
   "outputs": [],
   "source": [
    "def test_average(w_mat,b_m,c_m,x_test,y_test):\n",
    "    it=[]\n",
    "    accuracy=[]\n",
    "    for i in range(len(w_mat)):\n",
    "        it.append(i)\n",
    "        w_i = w_mat[i]\n",
    "        b_i = b_m[i]\n",
    "        c_i = c_m[i]\n",
    "        accur=test_for_it_avg(x_test,y_test, w_i,b_i,c_i)\n",
    "        accuracy.append(accur)\n",
    "    return accuracy,it"
   ]
  },
  {
   "cell_type": "code",
   "execution_count": 279,
   "id": "bca0b793",
   "metadata": {},
   "outputs": [
    {
     "name": "stdout",
     "output_type": "stream",
     "text": [
      "[0.7333333333333333, 0.7666666666666667, 0.7666666666666667, 0.7666666666666667, 0.7666666666666667, 0.7666666666666667, 0.7666666666666667, 0.7666666666666667, 0.7666666666666667, 0.7666666666666667] [0, 1, 2, 3, 4, 5, 6, 7, 8, 9]\n"
     ]
    },
    {
     "data": {
      "text/plain": [
       "Text(0, 0.5, 'Accuracy Achieved')"
      ]
     },
     "execution_count": 279,
     "metadata": {},
     "output_type": "execute_result"
    },
    {
     "data": {
      "image/png": "[encoded data removed]",
      "text/plain": [
       "<Figure size 432x288 with 1 Axes>"
      ]
     },
     "metadata": {
      "needs_background": "light"
     },
     "output_type": "display_data"
    }
   ],
   "source": [
    "w_m, w_mat,b_m,c_m = perceptron(x_train, y_train)\n",
    "acc,it=test_average(w_mat,b_m,c_m,x_test,y_test)\n",
    "plt.plot(it,acc)\n",
    "print(acc,it)\n",
    "plt.xlabel(\"Epoch\")\n",
    "plt.ylabel(\"Accuracy Achieved\")"
   ]
  },
  {
   "cell_type": "markdown",
   "id": "fc49c9fa",
   "metadata": {},
   "source": [
    "I think voted percepton gives the full accuracy faster comapre to vanila peceptron"
   ]
  },
  {
   "cell_type": "code",
   "execution_count": 275,
   "id": "b6fabed7",
   "metadata": {},
   "outputs": [
    {
     "name": "stdout",
     "output_type": "stream",
     "text": [
      "[-0.021 -0.015]\n",
      "[-0.042 -0.03 ]\n",
      "[-0.063 -0.045]\n",
      "[-0.084 -0.06 ]\n",
      "[-0.105 -0.075]\n",
      "[-0.126 -0.09 ]\n",
      "[-0.147 -0.105]\n",
      "[-0.168 -0.12 ]\n",
      "[-0.189 -0.135]\n",
      "[-0.21 -0.15]\n",
      "[array([-0.021, -0.015]), array([-0.042, -0.03 ]), array([-0.063, -0.045]), array([-0.084, -0.06 ]), array([-0.105, -0.075]), array([-0.126, -0.09 ]), array([-0.147, -0.105]), array([-0.168, -0.12 ]), array([-0.189, -0.135]), array([-0.21, -0.15])]\n",
      "[-0.21 -0.15] 0.2822162944251908\n"
     ]
    }
   ],
   "source": [
    "x_cord=np.array([[0.1,0.2,1],[0.3,0.41,1],[0.5,0.6,-1],[0.7,0.8,-1],[0.9,0.10,-1]])\n",
    "x_cord_T=x_cord.T\n",
    "y_cord=x_cord_T[len(x_cord_T)-1].astype(int)\n",
    "w,b,w_,b_=van_perceptron(x_cord,y_cord)\n",
    "print(w,b)"
   ]
  },
  {
   "cell_type": "code",
   "execution_count": 276,
   "id": "2b424ee9",
   "metadata": {},
   "outputs": [],
   "source": [
    "x_cord=np.array(x_cord)\n",
    "x_cord=x_cord.T\n",
    "x1_cord=x_cord[0]\n",
    "x2_cord=x_cord[1]"
   ]
  },
  {
   "cell_type": "code",
   "execution_count": 257,
   "id": "4614b9af",
   "metadata": {},
   "outputs": [],
   "source": [
    "xa=1\n",
    "xb=-1\n",
    "if w[1]!=0:\n",
    "    ya=(-w[0]*xa-b)/w[1]\n",
    "    yb=(-w[0]*xb-b)/w[1]\n",
    "else:\n",
    "    xa=-b/w[0]\n",
    "    xb=-b/w[0]\n",
    "    ya=1\n",
    "    yb=-1"
   ]
  },
  {
   "cell_type": "code",
   "execution_count": 258,
   "id": "1d05bd26",
   "metadata": {},
   "outputs": [
    {
     "data": {
      "text/plain": [
       "Text(0, 0.5, 'X_2')"
      ]
     },
     "execution_count": 258,
     "metadata": {},
     "output_type": "execute_result"
    },
    {
     "data": {
      "image/png": "[encoded data removed]",
      "text/plain": [
       "<Figure size 432x288 with 1 Axes>"
      ]
     },
     "metadata": {
      "needs_background": "light"
     },
     "output_type": "display_data"
    }
   ],
   "source": [
    "plt.grid(False)\n",
    "#plt.xlim(-1,1)\n",
    "#plt.ylim(-1,1)\n",
    "y_cord=np.array(y_cord)\n",
    "plt.plot([xa,xb],[ya,yb],color='black')\n",
    "colormap = np.array(['red', 'green', 'b'])\n",
    "plt.scatter(x1_cord, x2_cord, s=40, c=colormap[y_cord])\n",
    "plt.xlabel('X 1')\n",
    "plt.ylabel('X_2')"
   ]
  },
  {
   "cell_type": "markdown",
   "id": "b1ae74df",
   "metadata": {},
   "source": [
    "Taken help from Shaswat das for voted percptron part"
   ]
  },
  {
   "cell_type": "code",
   "execution_count": null,
   "id": "df5ed15c",
   "metadata": {},
   "outputs": [],
   "source": []
  }
 ],
 "metadata": {
  "kernelspec": {
   "display_name": "Python 3",
   "language": "python",
   "name": "python3"
  },
  "language_info": {
   "codemirror_mode": {
    "name": "ipython",
    "version": 3
   },
   "file_extension": ".py",
   "mimetype": "text/x-python",
   "name": "python",
   "nbconvert_exporter": "python",
   "pygments_lexer": "ipython3",
   "version": "3.9.4"
  }
 },
 "nbformat": 4,
 "nbformat_minor": 5
}
